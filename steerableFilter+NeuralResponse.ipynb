{
 "cells": [
  {
   "cell_type": "code",
   "execution_count": 55,
   "id": "1495aa63",
   "metadata": {},
   "outputs": [],
   "source": [
    "import numpy as np\n",
    "import matplotlib.pyplot as plt\n"
   ]
  },
  {
   "cell_type": "code",
   "execution_count": 56,
   "id": "28851ecf",
   "metadata": {},
   "outputs": [
    {
     "ename": "SyntaxError",
     "evalue": "invalid syntax (502314800.py, line 13)",
     "output_type": "error",
     "traceback": [
      "\u001b[1;36m  Cell \u001b[1;32mIn[56], line 13\u001b[1;36m\u001b[0m\n\u001b[1;33m    math_angle =\u001b[0m\n\u001b[1;37m                 ^\u001b[0m\n\u001b[1;31mSyntaxError\u001b[0m\u001b[1;31m:\u001b[0m invalid syntax\n"
     ]
    }
   ],
   "source": [
    "dims = [-3,3,100]\n",
    "x = np.linspace(dims[0], dims[1], dims[2])\n",
    "y = np.linspace(dims[0], dims[1], dims[2])\n",
    "X, Y = np.meshgrid(x, y)\n",
    "Gi = np.exp(-(X**2 + Y**2))\n",
    "plt.figure(figsize=(8, 6))\n",
    "plt.imshow(Gi, extent=(-5, 5, -5, 5), origin='lower', cmap='viridis')\n",
    "# Signal and Noise angle generation\n",
    "signal_angle = [-45, 45]  # only these 2 as it is a 2AFC task\n",
    "noise_angle = np.random.normal(0, 30, 4)  # Generate noise angles with a mean of 0 and std deviation of 30\n",
    "GiPrimex = -2 * X * Gi\n",
    "GiPrimey = -2 * Y * Gi\n",
    "math_angle = \n",
    "perp_math_angle = math_angle + 90 \n",
    "perceived_angle = -math_angle + 90\n",
    "prefered_angle = np.deg2rad(45)\n",
    "theta = np.deg2rad(math_angle)  # Example orientation in radians\n",
    "\n",
    "GiPrimeTheta = np.cos(theta)*GiPrimex + np.sin(theta)*GiPrimey \n",
    "neuronFilter = np.cos(prefered_angle)*GiPrimex + np.sin(prefered_angle)*GiPrimey\n",
    "plt.figure(figsize=(8, 6))\n",
    "# Get the maximum absolute value for symmetric color scaling\n",
    "vmax = np.max(np.abs(GiPrimeTheta))\n",
    "plt.imshow(GiPrimeTheta, cmap='grey', vmin=-vmax, vmax=vmax)\n",
    "plt.title(f'Gradient of Gaussian Function at {math_angle}° Orientation')\n",
    "plt.colorbar(label='Intensity')\n",
    "plt.show()"
   ]
  },
  {
   "cell_type": "code",
   "execution_count": null,
   "id": "bf150361",
   "metadata": {},
   "outputs": [
    {
     "data": {
      "text/plain": [
       "-1.1102230246251565e-16"
      ]
     },
     "execution_count": 52,
     "metadata": {},
     "output_type": "execute_result"
    }
   ],
   "source": [
    "def matrix_similarity_proportion(matrix1, matrix2):\n",
    "    \"\"\"\n",
    "    Calculate similarity between two matrices as a proportion (0-1).\n",
    "    \n",
    "    Parameters:\n",
    "    matrix1, matrix2: numpy arrays of the same shape\n",
    "    \n",
    "    Returns:\n",
    "    float: Similarity proportion (0-1) where 1 means identical\n",
    "    \"\"\"\n",
    "    # Flatten matrices\n",
    "    flat1 = matrix1.flatten()\n",
    "    flat2 = matrix2.flatten()\n",
    "    \n",
    "    # Calculate cosine similarity\n",
    "    dot_product = np.dot(flat1, flat2)\n",
    "    norm1 = np.linalg.norm(flat1)\n",
    "    norm2 = np.linalg.norm(flat2)\n",
    "    \n",
    "    if norm1 == 0 or norm2 == 0:\n",
    "        return 0.0\n",
    "    \n",
    "    cosine_sim = dot_product / (norm1 * norm2)\n",
    "    \n",
    "    # Convert from [-1,1] to [0,1] range\n",
    "    proportion = (cosine_sim + 1) / 2\n",
    "    \n",
    "    return dot_product\n",
    "matrix_similarity_proportion(GiPrimeTheta,neuronFilter)"
   ]
  }
 ],
 "metadata": {
  "kernelspec": {
   "display_name": "base",
   "language": "python",
   "name": "python3"
  },
  "language_info": {
   "codemirror_mode": {
    "name": "ipython",
    "version": 3
   },
   "file_extension": ".py",
   "mimetype": "text/x-python",
   "name": "python",
   "nbconvert_exporter": "python",
   "pygments_lexer": "ipython3",
   "version": "3.12.7"
  }
 },
 "nbformat": 4,
 "nbformat_minor": 5
}
